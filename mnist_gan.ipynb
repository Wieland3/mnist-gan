{
  "nbformat": 4,
  "nbformat_minor": 0,
  "metadata": {
    "colab": {
      "provenance": []
    },
    "kernelspec": {
      "name": "python3",
      "display_name": "Python 3"
    },
    "language_info": {
      "name": "python"
    },
    "accelerator": "GPU",
    "gpuClass": "standard"
  },
  "cells": [
    {
      "cell_type": "markdown",
      "source": [
        "## Import"
      ],
      "metadata": {
        "id": "0e5ngfpQjE-g"
      }
    },
    {
      "cell_type": "code",
      "execution_count": null,
      "metadata": {
        "id": "cHlyJ7MewfYY"
      },
      "outputs": [],
      "source": [
        "import numpy as np\n",
        "import tensorflow as tf\n",
        "import matplotlib.pyplot as plt\n",
        "from numpy.random import randn\n",
        "from numpy.random import randint\n",
        "from tqdm import tqdm\n",
        "from PIL import Image"
      ]
    },
    {
      "cell_type": "markdown",
      "source": [
        "## Define Constants"
      ],
      "metadata": {
        "id": "5unSu08qjLAt"
      }
    },
    {
      "cell_type": "code",
      "source": [
        "IN_SHAPE = (28,28,1)\n",
        "LATENT_SHAPE = (10,)"
      ],
      "metadata": {
        "id": "1-Bd9dfJxEMO"
      },
      "execution_count": null,
      "outputs": []
    },
    {
      "cell_type": "markdown",
      "source": [
        "## Load MNIST Data"
      ],
      "metadata": {
        "id": "Vj4gphBpjTnR"
      }
    },
    {
      "cell_type": "code",
      "source": [
        "(x_train, y_train), (x_test, y_test) = tf.keras.datasets.mnist.load_data()\n",
        "x_train = x_train.reshape((-1,28,28,1))\n",
        "x_test = x_test.reshape((-1,28,28,1))\n",
        "x_train = x_train/255\n",
        "x_test = x_test/255"
      ],
      "metadata": {
        "id": "y5IRpcVTvTSv",
        "colab": {
          "base_uri": "https://localhost:8080/"
        },
        "outputId": "f34b7910-ad6c-4070-b577-d6f2fb4405a4"
      },
      "execution_count": null,
      "outputs": [
        {
          "output_type": "stream",
          "name": "stdout",
          "text": [
            "Downloading data from https://storage.googleapis.com/tensorflow/tf-keras-datasets/mnist.npz\n",
            "11493376/11490434 [==============================] - 0s 0us/step\n",
            "11501568/11490434 [==============================] - 0s 0us/step\n"
          ]
        }
      ]
    },
    {
      "cell_type": "code",
      "source": [
        "def discr(in_shape = (28,28,1)):\n",
        "  ''' Discriminator Model of GAN.\n",
        "      Returns 1d output\n",
        "  '''\n",
        "  input = tf.keras.layers.Input(shape=in_shape)\n",
        "  x = tf.keras.layers.Conv2D(32,(3,3),strides=(2,2), padding = 'same')(input)\n",
        "  x = tf.keras.layers.ReLU()(x)\n",
        "  x = tf.keras.layers.Conv2D(64,(3,3),strides=(2,2), padding = 'same')(x)\n",
        "  x = tf.keras.layers.ReLU()(x)\n",
        "  x = tf.keras.layers.Flatten()(x)\n",
        "  x = tf.keras.layers.Dense(1, activation = 'sigmoid')(x)\n",
        "  model = tf.keras.Model(input,x)\n",
        "  model.compile(loss=\"BinaryCrossentropy\", optimizer='adam', metrics=['accuracy'])\n",
        "  return model\n",
        "\n",
        "d = discr()\n",
        "d.summary()"
      ],
      "metadata": {
        "id": "JslsPofhxbFy",
        "colab": {
          "base_uri": "https://localhost:8080/"
        },
        "outputId": "5c8bc695-e0b6-4b3b-9175-cb4f7d93a6f0"
      },
      "execution_count": null,
      "outputs": [
        {
          "output_type": "stream",
          "name": "stdout",
          "text": [
            "Model: \"model\"\n",
            "_________________________________________________________________\n",
            " Layer (type)                Output Shape              Param #   \n",
            "=================================================================\n",
            " input_1 (InputLayer)        [(None, 28, 28, 1)]       0         \n",
            "                                                                 \n",
            " conv2d (Conv2D)             (None, 14, 14, 32)        320       \n",
            "                                                                 \n",
            " re_lu (ReLU)                (None, 14, 14, 32)        0         \n",
            "                                                                 \n",
            " conv2d_1 (Conv2D)           (None, 7, 7, 64)          18496     \n",
            "                                                                 \n",
            " re_lu_1 (ReLU)              (None, 7, 7, 64)          0         \n",
            "                                                                 \n",
            " flatten (Flatten)           (None, 3136)              0         \n",
            "                                                                 \n",
            " dense (Dense)               (None, 1)                 3137      \n",
            "                                                                 \n",
            "=================================================================\n",
            "Total params: 21,953\n",
            "Trainable params: 21,953\n",
            "Non-trainable params: 0\n",
            "_________________________________________________________________\n"
          ]
        }
      ]
    },
    {
      "cell_type": "code",
      "source": [
        "def gen(in_shape=LATENT_SHAPE, n_nodes = 14 * 14):\n",
        "  ''' Generator Model of GAN\n",
        "      Input Shape is shape of latent vector\n",
        "      n_nodes is number of nodes for the first Dense Layer\n",
        "  '''\n",
        "  input = tf.keras.layers.Input(shape=in_shape)\n",
        "  x = tf.keras.layers.Dense(n_nodes)(input)\n",
        "  x = tf.keras.layers.ReLU()(x)\n",
        "  x = tf.keras.layers.Reshape((7,7,-1))(x)\n",
        "  x = tf.keras.layers.Conv2DTranspose(64,(3,3),strides=(2,2), padding ='same')(x)\n",
        "  x = tf.keras.layers.BatchNormalization()(x)\n",
        "  x = tf.keras.layers.ReLU()(x)\n",
        "  x = tf.keras.layers.Conv2DTranspose(32,(3,3),strides=(2,2), padding = 'same')(x)\n",
        "  x = tf.keras.layers.BatchNormalization()(x)\n",
        "  x = tf.keras.layers.ReLU()(x)\n",
        "  x = tf.keras.layers.Conv2D(1,(1,1), padding = 'same', activation = 'sigmoid')(x)\n",
        "\n",
        "  model = tf.keras.Model(input,x)\n",
        "  return model\n",
        "\n",
        "g = gen()\n",
        "g.summary()"
      ],
      "metadata": {
        "id": "uRcKv0Anx48w",
        "colab": {
          "base_uri": "https://localhost:8080/"
        },
        "outputId": "b6632a52-d3ca-4afc-8688-4ab10030a078"
      },
      "execution_count": null,
      "outputs": [
        {
          "output_type": "stream",
          "name": "stdout",
          "text": [
            "Model: \"model_1\"\n",
            "_________________________________________________________________\n",
            " Layer (type)                Output Shape              Param #   \n",
            "=================================================================\n",
            " input_2 (InputLayer)        [(None, 10)]              0         \n",
            "                                                                 \n",
            " dense_1 (Dense)             (None, 196)               2156      \n",
            "                                                                 \n",
            " re_lu_2 (ReLU)              (None, 196)               0         \n",
            "                                                                 \n",
            " reshape (Reshape)           (None, 7, 7, 4)           0         \n",
            "                                                                 \n",
            " conv2d_transpose (Conv2DTra  (None, 14, 14, 64)       2368      \n",
            " nspose)                                                         \n",
            "                                                                 \n",
            " batch_normalization (BatchN  (None, 14, 14, 64)       256       \n",
            " ormalization)                                                   \n",
            "                                                                 \n",
            " re_lu_3 (ReLU)              (None, 14, 14, 64)        0         \n",
            "                                                                 \n",
            " conv2d_transpose_1 (Conv2DT  (None, 28, 28, 32)       18464     \n",
            " ranspose)                                                       \n",
            "                                                                 \n",
            " batch_normalization_1 (Batc  (None, 28, 28, 32)       128       \n",
            " hNormalization)                                                 \n",
            "                                                                 \n",
            " re_lu_4 (ReLU)              (None, 28, 28, 32)        0         \n",
            "                                                                 \n",
            " conv2d_2 (Conv2D)           (None, 28, 28, 1)         33        \n",
            "                                                                 \n",
            "=================================================================\n",
            "Total params: 23,405\n",
            "Trainable params: 23,213\n",
            "Non-trainable params: 192\n",
            "_________________________________________________________________\n"
          ]
        }
      ]
    },
    {
      "cell_type": "code",
      "source": [
        "def gan(gen, discr, in_shape = LATENT_SHAPE):\n",
        "  ''' Stacking Generator and discriminator\n",
        "  '''\n",
        "  discr.trainable = False\n",
        "  input = tf.keras.layers.Input(shape=in_shape)\n",
        "  x = gen(input)\n",
        "  x = discr(x)\n",
        "  model = tf.keras.Model(input, x)\n",
        "  model.compile(loss='binary_crossentropy', optimizer='adam')\n",
        "  return model"
      ],
      "metadata": {
        "id": "EWqGmFXy0rSZ"
      },
      "execution_count": null,
      "outputs": []
    },
    {
      "cell_type": "code",
      "source": [
        "def generate_real_samples(dataset, n_samples, use_continues = True):\n",
        "  ''' Takes n_samples randomly from the dataset\n",
        "      use_continues indicates whether y values should be discrete or continues\n",
        "      if use_continues = True accuracy Metric will be 0 in training for the discr\n",
        "  '''\n",
        "  ix = randint(0, dataset.shape[0], n_samples)\n",
        "  X = dataset[ix]\n",
        "  if not use_continues:\n",
        "    y = np.ones((n_samples, 1))\n",
        "  if use_continues:\n",
        "    y = np.random.uniform(low=0.7, high=1, size=(n_samples,1))\n",
        "  return X, y\n",
        "\n",
        "def generate_latent_points(latent_dim, n_samples):\n",
        "  ''' Generates n_samples time the latent vector\n",
        "  '''\n",
        "  x_input = randn(latent_dim * n_samples)\n",
        "  x_input = x_input.reshape(n_samples, latent_dim)\n",
        "  return x_input\n",
        "\n",
        "def generate_fake_samples(gen, latent_dim, n_samples, use_continues = True):\n",
        "  ''' Generates n_samples of fake images from the latent vector\n",
        "      gen is reference to the generator to use\n",
        "      use_continues indicates whether y values should be discrete or continues.\n",
        "      if use_continues = True accuracy Metric will be 0 in training for the discr\n",
        "  '''\n",
        "  x_input = generate_latent_points(latent_dim, n_samples)\n",
        "  X = gen.predict(x_input)\n",
        "  if not use_continues:\n",
        "    y = np.zeros((n_samples, 1))\n",
        "  if use_continues:\n",
        "    y = np.random.uniform(low=0, high=0.3, size=(n_samples,1))\n",
        "  return X, y"
      ],
      "metadata": {
        "id": "dpG5EMUS4pMJ"
      },
      "execution_count": null,
      "outputs": []
    },
    {
      "cell_type": "code",
      "source": [
        "def train(gen, discr, gan, dataset, latent_dim = LATENT_SHAPE[0], epochs=10, n_batch=256):\n",
        "  ''' Training function for training the generator against the discriminator\n",
        "      gen = generator model\n",
        "      discr = discriminator model\n",
        "      gan = gan model\n",
        "  '''\n",
        "  bat_per_epo = int(dataset.shape[0] / n_batch)\n",
        "  half_batch = int(n_batch / 2)\n",
        "  for epoch in range(epochs):\n",
        "      for batch in range(bat_per_epo):\n",
        "\n",
        "            X_real, y_real = generate_real_samples(dataset, half_batch)\n",
        "            X_fake, y_fake = generate_fake_samples(gen, latent_dim, half_batch)\n",
        "            X, y = np.vstack((X_real, X_fake)), np.vstack((y_real, y_fake))\n",
        "            d_loss = discr.train_on_batch(X, y, return_dict = True)\n",
        "\n",
        "            X_gan = generate_latent_points(latent_dim, n_batch)\n",
        "            y_gan = np.ones((n_batch, 1))\n",
        "            g_loss = gan.train_on_batch(X_gan, y_gan)\n",
        "\n",
        "      print('Epoch: ' + str(epoch) + \" Discr Loss: \" + str(d_loss) + \" Gen Loss: \" + str(g_loss))"
      ],
      "metadata": {
        "id": "Q9zx9LsD5xIO"
      },
      "execution_count": null,
      "outputs": []
    },
    {
      "cell_type": "code",
      "source": [
        "d = discr()\n",
        "g = gen()\n",
        "gan_model = gan(g, d)\n",
        "train(g, d, gan_model, x_train, epochs = 40)\n",
        "g.save(\"mnist_gen.h5\")"
      ],
      "metadata": {
        "colab": {
          "base_uri": "https://localhost:8080/"
        },
        "id": "eAjbyKL36nyc",
        "outputId": "ca771356-110e-46a0-fa4f-f22d1a27ca53"
      },
      "execution_count": null,
      "outputs": [
        {
          "output_type": "stream",
          "name": "stdout",
          "text": [
            "Epoch: 0 Discr Loss: {'loss': 0.4785081744194031, 'accuracy': 0.0} Gen Loss: 1.1596744060516357\n",
            "Epoch: 1 Discr Loss: {'loss': 0.4875577986240387, 'accuracy': 0.0} Gen Loss: 1.7033096551895142\n",
            "Epoch: 2 Discr Loss: {'loss': 0.4888148009777069, 'accuracy': 0.0} Gen Loss: 1.4922221899032593\n",
            "Epoch: 3 Discr Loss: {'loss': 0.511043906211853, 'accuracy': 0.0} Gen Loss: 1.574686050415039\n",
            "Epoch: 4 Discr Loss: {'loss': 0.4848032593727112, 'accuracy': 0.0} Gen Loss: 1.3911914825439453\n",
            "Epoch: 5 Discr Loss: {'loss': 0.489146888256073, 'accuracy': 0.0} Gen Loss: 1.6813154220581055\n",
            "Epoch: 6 Discr Loss: {'loss': 0.47942620515823364, 'accuracy': 0.0} Gen Loss: 1.4519011974334717\n",
            "Epoch: 7 Discr Loss: {'loss': 0.484055757522583, 'accuracy': 0.0} Gen Loss: 1.4465854167938232\n",
            "Epoch: 8 Discr Loss: {'loss': 0.49946239590644836, 'accuracy': 0.0} Gen Loss: 1.4561023712158203\n",
            "Epoch: 9 Discr Loss: {'loss': 0.5213046073913574, 'accuracy': 0.0} Gen Loss: 1.5223506689071655\n",
            "Epoch: 10 Discr Loss: {'loss': 0.5340819358825684, 'accuracy': 0.0} Gen Loss: 1.5006093978881836\n",
            "Epoch: 11 Discr Loss: {'loss': 0.5137549042701721, 'accuracy': 0.0} Gen Loss: 1.5623222589492798\n",
            "Epoch: 12 Discr Loss: {'loss': 0.539483904838562, 'accuracy': 0.0} Gen Loss: 1.3165202140808105\n",
            "Epoch: 13 Discr Loss: {'loss': 0.5331116318702698, 'accuracy': 0.0} Gen Loss: 1.2242610454559326\n",
            "Epoch: 14 Discr Loss: {'loss': 0.5146180987358093, 'accuracy': 0.0} Gen Loss: 1.3501845598220825\n",
            "Epoch: 15 Discr Loss: {'loss': 0.5098055005073547, 'accuracy': 0.0} Gen Loss: 1.4301726818084717\n",
            "Epoch: 16 Discr Loss: {'loss': 0.5358214378356934, 'accuracy': 0.0} Gen Loss: 1.17717707157135\n",
            "Epoch: 17 Discr Loss: {'loss': 0.5356183052062988, 'accuracy': 0.0} Gen Loss: 1.3807282447814941\n",
            "Epoch: 18 Discr Loss: {'loss': 0.5485788583755493, 'accuracy': 0.0} Gen Loss: 1.4606746435165405\n",
            "Epoch: 19 Discr Loss: {'loss': 0.5495600700378418, 'accuracy': 0.0} Gen Loss: 1.243816614151001\n",
            "Epoch: 20 Discr Loss: {'loss': 0.5571131110191345, 'accuracy': 0.0} Gen Loss: 1.3242130279541016\n",
            "Epoch: 21 Discr Loss: {'loss': 0.5239703059196472, 'accuracy': 0.0} Gen Loss: 1.2867381572723389\n",
            "Epoch: 22 Discr Loss: {'loss': 0.5735552310943604, 'accuracy': 0.0} Gen Loss: 1.0482327938079834\n",
            "Epoch: 23 Discr Loss: {'loss': 0.5413433313369751, 'accuracy': 0.0} Gen Loss: 1.2653462886810303\n",
            "Epoch: 24 Discr Loss: {'loss': 0.5342639088630676, 'accuracy': 0.0} Gen Loss: 1.5683231353759766\n",
            "Epoch: 25 Discr Loss: {'loss': 0.5420453548431396, 'accuracy': 0.0} Gen Loss: 1.3065115213394165\n",
            "Epoch: 26 Discr Loss: {'loss': 0.559459924697876, 'accuracy': 0.0} Gen Loss: 1.3073043823242188\n",
            "Epoch: 27 Discr Loss: {'loss': 0.5585377812385559, 'accuracy': 0.0} Gen Loss: 1.134163737297058\n",
            "Epoch: 28 Discr Loss: {'loss': 0.5427296161651611, 'accuracy': 0.0} Gen Loss: 1.2900259494781494\n",
            "Epoch: 29 Discr Loss: {'loss': 0.5394653081893921, 'accuracy': 0.0} Gen Loss: 1.3604516983032227\n",
            "Epoch: 30 Discr Loss: {'loss': 0.5408727526664734, 'accuracy': 0.0} Gen Loss: 1.3551044464111328\n",
            "Epoch: 31 Discr Loss: {'loss': 0.5729596614837646, 'accuracy': 0.0} Gen Loss: 1.2151726484298706\n",
            "Epoch: 32 Discr Loss: {'loss': 0.5318145155906677, 'accuracy': 0.0} Gen Loss: 1.197889804840088\n",
            "Epoch: 33 Discr Loss: {'loss': 0.570481538772583, 'accuracy': 0.0} Gen Loss: 1.3222150802612305\n",
            "Epoch: 34 Discr Loss: {'loss': 0.5362884402275085, 'accuracy': 0.0} Gen Loss: 1.247470736503601\n",
            "Epoch: 35 Discr Loss: {'loss': 0.5463441610336304, 'accuracy': 0.0} Gen Loss: 1.1596450805664062\n",
            "Epoch: 36 Discr Loss: {'loss': 0.5098793506622314, 'accuracy': 0.0} Gen Loss: 1.4616568088531494\n",
            "Epoch: 37 Discr Loss: {'loss': 0.5245751738548279, 'accuracy': 0.0} Gen Loss: 1.370422601699829\n",
            "Epoch: 38 Discr Loss: {'loss': 0.5440505743026733, 'accuracy': 0.0} Gen Loss: 1.367866039276123\n"
          ]
        },
        {
          "output_type": "stream",
          "name": "stderr",
          "text": [
            "WARNING:tensorflow:Compiled the loaded model, but the compiled metrics have yet to be built. `model.compile_metrics` will be empty until you train or evaluate the model.\n"
          ]
        },
        {
          "output_type": "stream",
          "name": "stdout",
          "text": [
            "Epoch: 39 Discr Loss: {'loss': 0.5429933071136475, 'accuracy': 0.0} Gen Loss: 1.3021435737609863\n"
          ]
        }
      ]
    },
    {
      "cell_type": "code",
      "source": [
        "fig, axs = plt.subplots(nrows=5, ncols=5, figsize=(15, 12))\n",
        "axs = axs.ravel()\n",
        "\n",
        "for i in range(25):\n",
        "    latent_points = generate_latent_points(LATENT_SHAPE[0],1)\n",
        "    pred = g.predict(latent_points)\n",
        "    array = np.array(pred.reshape(28,28))\n",
        "    axs[i].imshow(array)\n",
        "\n"
      ],
      "metadata": {
        "colab": {
          "base_uri": "https://localhost:8080/",
          "height": 702
        },
        "id": "EWYeuXloldCs",
        "outputId": "941ff15d-7bb2-4db9-d9c4-6becb9d6140e"
      },
      "execution_count": null,
      "outputs": [
        {
          "output_type": "display_data",
          "data": {
            "text/plain": [
              "<Figure size 1080x864 with 25 Axes>"
            ],
            "image/png": "[encoded data removed]"
          },
          "metadata": {
            "needs_background": "light"
          }
        }
      ]
    },
    {
      "cell_type": "code",
      "source": [
        "reconstructed_model = tf.keras.models.load_model(\"mnist_gen.h5\")"
      ],
      "metadata": {
        "id": "Bzuc5RhEoWFe",
        "colab": {
          "base_uri": "https://localhost:8080/"
        },
        "outputId": "bfb9df24-1a7d-4831-f99a-0f3415e679ef"
      },
      "execution_count": null,
      "outputs": [
        {
          "output_type": "stream",
          "name": "stderr",
          "text": [
            "WARNING:tensorflow:No training configuration found in the save file, so the model was *not* compiled. Compile it manually.\n"
          ]
        }
      ]
    },
    {
      "cell_type": "code",
      "source": [
        "plt.imshow(reconstructed_model.predict(latent_points).reshape((28,28)))"
      ],
      "metadata": {
        "colab": {
          "base_uri": "https://localhost:8080/",
          "height": 283
        },
        "id": "bPcJjxrpP4lL",
        "outputId": "3e8e6b9b-c8b3-4edc-9d32-207481c4db82"
      },
      "execution_count": null,
      "outputs": [
        {
          "output_type": "execute_result",
          "data": {
            "text/plain": [
              "<matplotlib.image.AxesImage at 0x7f6e9f254190>"
            ]
          },
          "metadata": {},
          "execution_count": 17
        },
        {
          "output_type": "display_data",
          "data": {
            "text/plain": [
              "<Figure size 432x288 with 1 Axes>"
            ],
            "image/png": "[encoded data removed]"
          },
          "metadata": {
            "needs_background": "light"
          }
        }
      ]
    }
  ]
}